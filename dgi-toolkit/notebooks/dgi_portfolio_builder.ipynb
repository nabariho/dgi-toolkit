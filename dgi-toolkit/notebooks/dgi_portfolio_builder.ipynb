{
 "cells": [
  {
   "cell_type": "markdown",
   "id": "e33602e0",
   "metadata": {},
   "source": [
    "# DGI Portfolio Builder\n",
    "\n",
    "This notebook validates the project environment and demonstrates basic usage of pandas."
   ]
  },
  {
   "cell_type": "code",
   "execution_count": null,
   "id": "26c10bda",
   "metadata": {},
   "outputs": [],
   "source": [
    "import sys\n",
    "print(f'Python version: {sys.version}')"
   ]
  },
  {
   "cell_type": "code",
   "execution_count": null,
   "id": "c0a61717",
   "metadata": {},
   "outputs": [],
   "source": [
    "import pandas as pd\n",
    "df = pd.DataFrame({'symbol': ['AAPL', 'MSFT'], 'dividend_yield': [0.5, 0.8]})\n",
    "df"
   ]
  },
  {
   "cell_type": "code",
   "execution_count": null,
   "id": "d1eefd78",
   "metadata": {},
   "outputs": [],
   "source": [
    "# Validate that notebook is running in the project environment\n",
    "import os\n",
    "print('Current working directory:', os.getcwd())"
   ]
  }
 ],
 "metadata": {
  "kernelspec": {
   "display_name": "Python 3 (ipykernel)",
   "language": "python",
   "name": "python3"
  },
  "language_info": {
   "codemirror_mode": {
    "name": "ipython",
    "version": 3
   },
   "file_extension": ".py",
   "mimetype": "text/x-python",
   "name": "python",
   "nbconvert_exporter": "python",
   "pygments_lexer": "ipython3",
   "version": "3.13.1"
  }
 },
 "nbformat": 4,
 "nbformat_minor": 5
}
