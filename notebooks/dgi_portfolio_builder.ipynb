{
 "cells": [
  {
   "cell_type": "markdown",
   "metadata": {},
   "source": [
    "# DGI Portfolio Builder\n",
    "\n",
    "This notebook demonstrates the full pipeline of the DGI toolkit: loading fundamentals, screening, scoring, building a portfolio, plotting weights, and printing summary statistics."
   ]
  },
  {
   "cell_type": "code",
   "execution_count": null,
   "metadata": {},
   "outputs": [],
   "source": [
    "import sys\n",
    "import os\n",
    "\n",
    "print(f\"Python version: {sys.version}\")\n",
    "print(\"Current working directory:\", os.getcwd())"
   ]
  },
  {
   "cell_type": "code",
   "execution_count": null,
   "metadata": {},
   "outputs": [],
   "source": [
    "import matplotlib.pyplot as plt\n",
    "\n",
    "from dgi.filtering import DefaultFilter\n",
    "from dgi.models.company import CompanyData\n",
    "from dgi.portfolio import build, summary_stats\n",
    "from dgi.repositories.csv import CsvCompanyDataRepository\n",
    "from dgi.scoring import DefaultScoring\n",
    "from dgi.screener import Screener\n",
    "from dgi.validation import DgiRowValidator, PydanticRowValidation"
   ]
  },
  {
   "cell_type": "markdown",
   "metadata": {},
   "source": [
    "## Load Raw Fundamentals Data"
   ]
  },
  {
   "cell_type": "code",
   "execution_count": null,
   "metadata": {},
   "outputs": [],
   "source": [
    "csv_path = \"../data/fundamentals_small.csv\"\n",
    "repo = CsvCompanyDataRepository(\n",
    "    csv_path, DgiRowValidator(PydanticRowValidation(CompanyData))\n",
    ")\n",
    "screener = Screener(\n",
    "    repo, scoring_strategy=DefaultScoring(), filter_strategy=DefaultFilter()\n",
    ")\n",
    "df = screener.load_universe()\n",
    "df.head()"
   ]
  },
  {
   "cell_type": "markdown",
   "metadata": {},
   "source": [
    "## Apply Filters"
   ]
  },
  {
   "cell_type": "code",
   "execution_count": null,
   "metadata": {},
   "outputs": [],
   "source": [
    "filtered = screener.apply_filters(df, min_yield=0.5, max_payout=60, min_cagr=5.0)\n",
    "filtered.head()"
   ]
  },
  {
   "cell_type": "markdown",
   "metadata": {},
   "source": [
    "## Score and Rank"
   ]
  },
  {
   "cell_type": "code",
   "execution_count": null,
   "metadata": {},
   "outputs": [],
   "source": [
    "scored = screener.add_scores(filtered)\n",
    "scored = scored.sort_values(\"score\", ascending=False)\n",
    "scored.head()"
   ]
  },
  {
   "cell_type": "markdown",
   "metadata": {},
   "source": [
    "## Build Portfolio (Top N, Equal Weight)"
   ]
  },
  {
   "cell_type": "code",
   "execution_count": null,
   "metadata": {},
   "outputs": [],
   "source": [
    "top_n = 5\n",
    "portfolio = build(scored, top_n=top_n, weighting=\"equal\")\n",
    "portfolio.head()"
   ]
  },
  {
   "cell_type": "markdown",
   "metadata": {},
   "source": [
    "## Plot Portfolio Weights"
   ]
  },
  {
   "cell_type": "code",
   "execution_count": null,
   "metadata": {},
   "outputs": [],
   "source": [
    "plt.figure(figsize=(8, 4))\n",
    "plt.bar(portfolio[\"ticker\"], portfolio[\"weight\"], color=\"skyblue\")\n",
    "plt.xlabel(\"Ticker\")\n",
    "plt.ylabel(\"Weight\")\n",
    "plt.title(\"Portfolio Weights\")\n",
    "plt.show()"
   ]
  },
  {
   "cell_type": "markdown",
   "metadata": {},
   "source": [
    "## Portfolio Summary Statistics"
   ]
  },
  {
   "cell_type": "code",
   "execution_count": null,
   "metadata": {},
   "outputs": [],
   "source": [
    "# Merge to get stats columns\n",
    "merged = portfolio.merge(scored, left_on=\"ticker\", right_on=\"symbol\", how=\"left\")\n",
    "stats = summary_stats(merged)\n",
    "print(\"Portfolio Yield:\", stats[\"yield\"])\n",
    "print(\"Median CAGR:\", stats[\"median_cagr\"])\n",
    "print(\"Mean Payout:\", stats[\"mean_payout\"])"
   ]
  }
 ],
 "metadata": {
  "kernelspec": {
   "display_name": "Python 3",
   "language": "python",
   "name": "python3"
  },
  "language_info": {
   "name": "python",
   "version": "3.12"
  }
 },
 "nbformat": 4,
 "nbformat_minor": 2
}
