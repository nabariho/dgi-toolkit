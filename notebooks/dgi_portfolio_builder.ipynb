{
 "cells": [
  {
   "cell_type": "markdown",
   "metadata": {},
   "source": [
    "# DGI Portfolio Builder\n\nThis notebook demonstrates the full pipeline of the DGI toolkit: loading fundamentals, screening, scoring, building a portfolio, plotting weights, and printing summary statistics."
   ]
  },
  {
   "cell_type": "code",
   "execution_count": null,
   "metadata": {},
   "outputs": [],
   "source": [
    "import sys\nprint(f'Python version: {sys.version}')\nimport os\nprint('Current working directory:', os.getcwd())"
   ]
  },
  {
   "cell_type": "code",
   "execution_count": null,
   "metadata": {},
   "outputs": [],
   "source": [
    "import pandas as pd\nimport matplotlib.pyplot as plt\nfrom dgi.screener import Screener\nfrom dgi.validation import DgiRowValidator\nfrom dgi.repositories.csv import CsvCompanyDataRepository\nfrom dgi.scoring import DefaultScoring\nfrom dgi.filtering import DefaultFilter\nfrom dgi.portfolio import build, summary_stats"
   ]
  },
  {
   "cell_type": "markdown",
   "metadata": {},
   "source": [
    "## Load Raw Fundamentals Data"
   ]
  },
  {
   "cell_type": "code",
   "execution_count": null,
   "metadata": {},
   "outputs": [],
   "source": [
    "csv_path = '../data/fundamentals_small.csv'\nrepo = CsvCompanyDataRepository(csv_path, DgiRowValidator())\nscreener = Screener(repo, scoring_strategy=DefaultScoring(), filter_strategy=DefaultFilter())\ndf = screener.load_universe()\ndf.head()"
   ]
  },
  {
   "cell_type": "markdown",
   "metadata": {},
   "source": [
    "## Apply Filters"
   ]
  },
  {
   "cell_type": "code",
   "execution_count": null,
   "metadata": {},
   "outputs": [],
   "source": [
    "filtered = screener.apply_filters(df, min_yield=0.5, max_payout=60, min_cagr=5.0)\nfiltered.head()"
   ]
  },
  {
   "cell_type": "markdown",
   "metadata": {},
   "source": [
    "## Score and Rank"
   ]
  },
  {
   "cell_type": "code",
   "execution_count": null,
   "metadata": {},
   "outputs": [],
   "source": [
    "scored = screener.add_scores(filtered)\nscored = scored.sort_values('score', ascending=False)\nscored.head()"
   ]
  },
  {
   "cell_type": "markdown",
   "metadata": {},
   "source": [
    "## Build Portfolio (Top N, Equal Weight)"
   ]
  },
  {
   "cell_type": "code",
   "execution_count": null,
   "metadata": {},
   "outputs": [],
   "source": [
    "top_n = 5\nportfolio = build(scored, top_n=top_n, weighting='equal')\nportfolio.head()"
   ]
  },
  {
   "cell_type": "markdown",
   "metadata": {},
   "source": [
    "## Plot Portfolio Weights"
   ]
  },
  {
   "cell_type": "code",
   "execution_count": null,
   "metadata": {},
   "outputs": [],
   "source": [
    "plt.figure(figsize=(8, 4))\nplt.bar(portfolio['ticker'], portfolio['weight'], color='skyblue')\nplt.xlabel('Ticker')\nplt.ylabel('Weight')\nplt.title('Portfolio Weights')\nplt.show()"
   ]
  },
  {
   "cell_type": "markdown",
   "metadata": {},
   "source": [
    "## Portfolio Summary Statistics"
   ]
  },
  {
   "cell_type": "code",
   "execution_count": null,
   "metadata": {},
   "outputs": [],
   "source": [
    "# Merge to get stats columns\nmerged = portfolio.merge(scored, left_on='ticker', right_on='symbol', how='left')\nstats = summary_stats(merged)\nprint('Portfolio Yield:', stats['yield'])\nprint('Median CAGR:', stats['median_cagr'])\nprint('Mean Payout:', stats['mean_payout'])"
   ]
  }
 ],
 "metadata": {
  "kernelspec": {
   "display_name": "Python 3",
   "language": "python",
   "name": "python3"
  },
  "language_info": {
   "name": "python",
   "version": "3.12"
  }
 },
 "nbformat": 4,
 "nbformat_minor": 2
}
