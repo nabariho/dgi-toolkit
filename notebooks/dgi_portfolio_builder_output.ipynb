{
 "cells": [
  {
   "cell_type": "markdown",
   "metadata": {},
   "source": [
    "# DGI Portfolio Builder\n",
    "\n",
    "This notebook demonstrates the full pipeline of the DGI toolkit: loading fundamentals, screening, scoring, building a portfolio, plotting weights, and printing summary statistics."
   ]
  },
  {
   "cell_type": "code",
   "execution_count": 1,
   "metadata": {
    "execution": {
     "iopub.execute_input": "2025-07-23T09:18:07.337299Z",
     "iopub.status.busy": "2025-07-23T09:18:07.337156Z",
     "iopub.status.idle": "2025-07-23T09:18:07.342111Z",
     "shell.execute_reply": "2025-07-23T09:18:07.341519Z"
    }
   },
   "outputs": [
    {
     "name": "stdout",
     "output_type": "stream",
     "text": [
      "Python version: 3.13.1 (main, Dec  3 2024, 17:59:52) [Clang 16.0.0 (clang-1600.0.26.4)]\n",
      "Current working directory: /Users/rubendominguezfalcon/learning/AI Automation/dgi/dgi-toolkit/notebooks\n"
     ]
    }
   ],
   "source": [
    "import sys\n",
    "print(f'Python version: {sys.version}')\n",
    "import os\n",
    "print('Current working directory:', os.getcwd())"
   ]
  },
  {
   "cell_type": "code",
   "execution_count": 2,
   "metadata": {
    "execution": {
     "iopub.execute_input": "2025-07-23T09:18:07.367152Z",
     "iopub.status.busy": "2025-07-23T09:18:07.366981Z",
     "iopub.status.idle": "2025-07-23T09:18:08.241996Z",
     "shell.execute_reply": "2025-07-23T09:18:08.241660Z"
    }
   },
   "outputs": [],
   "source": [
    "import pandas as pd\n",
    "import matplotlib.pyplot as plt\n",
    "from dgi.screener import Screener\n",
    "from dgi.validation import DgiRowValidator\n",
    "from dgi.repositories.csv import CsvCompanyDataRepository\n",
    "from dgi.scoring import DefaultScoring\n",
    "from dgi.filtering import DefaultFilter\n",
    "from dgi.portfolio import build, summary_stats"
   ]
  },
  {
   "cell_type": "markdown",
   "metadata": {},
   "source": [
    "## Load Raw Fundamentals Data"
   ]
  },
  {
   "cell_type": "code",
   "execution_count": 3,
   "metadata": {
    "execution": {
     "iopub.execute_input": "2025-07-23T09:18:08.243612Z",
     "iopub.status.busy": "2025-07-23T09:18:08.243464Z",
     "iopub.status.idle": "2025-07-23T09:18:08.259471Z",
     "shell.execute_reply": "2025-07-23T09:18:08.259190Z"
    }
   },
   "outputs": [
    {
     "data": {
      "text/html": [
       "<div>\n",
       "<style scoped>\n",
       "    .dataframe tbody tr th:only-of-type {\n",
       "        vertical-align: middle;\n",
       "    }\n",
       "\n",
       "    .dataframe tbody tr th {\n",
       "        vertical-align: top;\n",
       "    }\n",
       "\n",
       "    .dataframe thead th {\n",
       "        text-align: right;\n",
       "    }\n",
       "</style>\n",
       "<table border=\"1\" class=\"dataframe\">\n",
       "  <thead>\n",
       "    <tr style=\"text-align: right;\">\n",
       "      <th></th>\n",
       "      <th>symbol</th>\n",
       "      <th>name</th>\n",
       "      <th>sector</th>\n",
       "      <th>industry</th>\n",
       "      <th>dividend_yield</th>\n",
       "      <th>payout</th>\n",
       "      <th>dividend_cagr</th>\n",
       "      <th>fcf_yield</th>\n",
       "    </tr>\n",
       "  </thead>\n",
       "  <tbody>\n",
       "    <tr>\n",
       "      <th>0</th>\n",
       "      <td>AAPL</td>\n",
       "      <td>Apple Inc.</td>\n",
       "      <td>Technology</td>\n",
       "      <td>Consumer Electronics</td>\n",
       "      <td>0.6</td>\n",
       "      <td>15.0</td>\n",
       "      <td>8.5</td>\n",
       "      <td>5.2</td>\n",
       "    </tr>\n",
       "    <tr>\n",
       "      <th>1</th>\n",
       "      <td>MSFT</td>\n",
       "      <td>Microsoft Corp.</td>\n",
       "      <td>Technology</td>\n",
       "      <td>Software</td>\n",
       "      <td>0.8</td>\n",
       "      <td>35.0</td>\n",
       "      <td>10.0</td>\n",
       "      <td>7.0</td>\n",
       "    </tr>\n",
       "    <tr>\n",
       "      <th>2</th>\n",
       "      <td>GOOG</td>\n",
       "      <td>Alphabet Inc.</td>\n",
       "      <td>Technology</td>\n",
       "      <td>Internet</td>\n",
       "      <td>0.7</td>\n",
       "      <td>25.0</td>\n",
       "      <td>12.0</td>\n",
       "      <td>6.5</td>\n",
       "    </tr>\n",
       "    <tr>\n",
       "      <th>3</th>\n",
       "      <td>JNJ</td>\n",
       "      <td>Johnson &amp; Johnson</td>\n",
       "      <td>Healthcare</td>\n",
       "      <td>Pharmaceuticals</td>\n",
       "      <td>2.5</td>\n",
       "      <td>50.0</td>\n",
       "      <td>6.0</td>\n",
       "      <td>4.0</td>\n",
       "    </tr>\n",
       "    <tr>\n",
       "      <th>4</th>\n",
       "      <td>PG</td>\n",
       "      <td>Procter &amp; Gamble</td>\n",
       "      <td>Consumer Staples</td>\n",
       "      <td>Household Products</td>\n",
       "      <td>1.2</td>\n",
       "      <td>55.0</td>\n",
       "      <td>5.5</td>\n",
       "      <td>3.8</td>\n",
       "    </tr>\n",
       "  </tbody>\n",
       "</table>\n",
       "</div>"
      ],
      "text/plain": [
       "  symbol               name            sector              industry  \\\n",
       "0   AAPL         Apple Inc.        Technology  Consumer Electronics   \n",
       "1   MSFT    Microsoft Corp.        Technology              Software   \n",
       "2   GOOG      Alphabet Inc.        Technology              Internet   \n",
       "3    JNJ  Johnson & Johnson        Healthcare       Pharmaceuticals   \n",
       "4     PG   Procter & Gamble  Consumer Staples    Household Products   \n",
       "\n",
       "   dividend_yield  payout  dividend_cagr  fcf_yield  \n",
       "0             0.6    15.0            8.5        5.2  \n",
       "1             0.8    35.0           10.0        7.0  \n",
       "2             0.7    25.0           12.0        6.5  \n",
       "3             2.5    50.0            6.0        4.0  \n",
       "4             1.2    55.0            5.5        3.8  "
      ]
     },
     "execution_count": 3,
     "metadata": {},
     "output_type": "execute_result"
    }
   ],
   "source": [
    "csv_path = '../data/fundamentals_small.csv'\n",
    "repo = CsvCompanyDataRepository(csv_path, DgiRowValidator())\n",
    "screener = Screener(repo, scoring_strategy=DefaultScoring(), filter_strategy=DefaultFilter())\n",
    "df = screener.load_universe()\n",
    "df.head()"
   ]
  },
  {
   "cell_type": "markdown",
   "metadata": {},
   "source": [
    "## Apply Filters"
   ]
  },
  {
   "cell_type": "code",
   "execution_count": 4,
   "metadata": {
    "execution": {
     "iopub.execute_input": "2025-07-23T09:18:08.260916Z",
     "iopub.status.busy": "2025-07-23T09:18:08.260794Z",
     "iopub.status.idle": "2025-07-23T09:18:08.265866Z",
     "shell.execute_reply": "2025-07-23T09:18:08.265644Z"
    }
   },
   "outputs": [
    {
     "data": {
      "text/html": [
       "<div>\n",
       "<style scoped>\n",
       "    .dataframe tbody tr th:only-of-type {\n",
       "        vertical-align: middle;\n",
       "    }\n",
       "\n",
       "    .dataframe tbody tr th {\n",
       "        vertical-align: top;\n",
       "    }\n",
       "\n",
       "    .dataframe thead th {\n",
       "        text-align: right;\n",
       "    }\n",
       "</style>\n",
       "<table border=\"1\" class=\"dataframe\">\n",
       "  <thead>\n",
       "    <tr style=\"text-align: right;\">\n",
       "      <th></th>\n",
       "      <th>symbol</th>\n",
       "      <th>name</th>\n",
       "      <th>sector</th>\n",
       "      <th>industry</th>\n",
       "      <th>dividend_yield</th>\n",
       "      <th>payout</th>\n",
       "      <th>dividend_cagr</th>\n",
       "      <th>fcf_yield</th>\n",
       "    </tr>\n",
       "  </thead>\n",
       "  <tbody>\n",
       "    <tr>\n",
       "      <th>0</th>\n",
       "      <td>AAPL</td>\n",
       "      <td>Apple Inc.</td>\n",
       "      <td>Technology</td>\n",
       "      <td>Consumer Electronics</td>\n",
       "      <td>0.6</td>\n",
       "      <td>15.0</td>\n",
       "      <td>8.5</td>\n",
       "      <td>5.2</td>\n",
       "    </tr>\n",
       "    <tr>\n",
       "      <th>1</th>\n",
       "      <td>MSFT</td>\n",
       "      <td>Microsoft Corp.</td>\n",
       "      <td>Technology</td>\n",
       "      <td>Software</td>\n",
       "      <td>0.8</td>\n",
       "      <td>35.0</td>\n",
       "      <td>10.0</td>\n",
       "      <td>7.0</td>\n",
       "    </tr>\n",
       "    <tr>\n",
       "      <th>2</th>\n",
       "      <td>GOOG</td>\n",
       "      <td>Alphabet Inc.</td>\n",
       "      <td>Technology</td>\n",
       "      <td>Internet</td>\n",
       "      <td>0.7</td>\n",
       "      <td>25.0</td>\n",
       "      <td>12.0</td>\n",
       "      <td>6.5</td>\n",
       "    </tr>\n",
       "    <tr>\n",
       "      <th>3</th>\n",
       "      <td>JNJ</td>\n",
       "      <td>Johnson &amp; Johnson</td>\n",
       "      <td>Healthcare</td>\n",
       "      <td>Pharmaceuticals</td>\n",
       "      <td>2.5</td>\n",
       "      <td>50.0</td>\n",
       "      <td>6.0</td>\n",
       "      <td>4.0</td>\n",
       "    </tr>\n",
       "    <tr>\n",
       "      <th>4</th>\n",
       "      <td>PG</td>\n",
       "      <td>Procter &amp; Gamble</td>\n",
       "      <td>Consumer Staples</td>\n",
       "      <td>Household Products</td>\n",
       "      <td>1.2</td>\n",
       "      <td>55.0</td>\n",
       "      <td>5.5</td>\n",
       "      <td>3.8</td>\n",
       "    </tr>\n",
       "  </tbody>\n",
       "</table>\n",
       "</div>"
      ],
      "text/plain": [
       "  symbol               name            sector              industry  \\\n",
       "0   AAPL         Apple Inc.        Technology  Consumer Electronics   \n",
       "1   MSFT    Microsoft Corp.        Technology              Software   \n",
       "2   GOOG      Alphabet Inc.        Technology              Internet   \n",
       "3    JNJ  Johnson & Johnson        Healthcare       Pharmaceuticals   \n",
       "4     PG   Procter & Gamble  Consumer Staples    Household Products   \n",
       "\n",
       "   dividend_yield  payout  dividend_cagr  fcf_yield  \n",
       "0             0.6    15.0            8.5        5.2  \n",
       "1             0.8    35.0           10.0        7.0  \n",
       "2             0.7    25.0           12.0        6.5  \n",
       "3             2.5    50.0            6.0        4.0  \n",
       "4             1.2    55.0            5.5        3.8  "
      ]
     },
     "execution_count": 4,
     "metadata": {},
     "output_type": "execute_result"
    }
   ],
   "source": [
    "filtered = screener.apply_filters(df, min_yield=0.5, max_payout=60, min_cagr=5.0)\n",
    "filtered.head()"
   ]
  },
  {
   "cell_type": "markdown",
   "metadata": {},
   "source": [
    "## Score and Rank"
   ]
  },
  {
   "cell_type": "code",
   "execution_count": 5,
   "metadata": {
    "execution": {
     "iopub.execute_input": "2025-07-23T09:18:08.267088Z",
     "iopub.status.busy": "2025-07-23T09:18:08.266983Z",
     "iopub.status.idle": "2025-07-23T09:18:08.272796Z",
     "shell.execute_reply": "2025-07-23T09:18:08.272569Z"
    }
   },
   "outputs": [
    {
     "data": {
      "text/html": [
       "<div>\n",
       "<style scoped>\n",
       "    .dataframe tbody tr th:only-of-type {\n",
       "        vertical-align: middle;\n",
       "    }\n",
       "\n",
       "    .dataframe tbody tr th {\n",
       "        vertical-align: top;\n",
       "    }\n",
       "\n",
       "    .dataframe thead th {\n",
       "        text-align: right;\n",
       "    }\n",
       "</style>\n",
       "<table border=\"1\" class=\"dataframe\">\n",
       "  <thead>\n",
       "    <tr style=\"text-align: right;\">\n",
       "      <th></th>\n",
       "      <th>symbol</th>\n",
       "      <th>name</th>\n",
       "      <th>sector</th>\n",
       "      <th>industry</th>\n",
       "      <th>dividend_yield</th>\n",
       "      <th>payout</th>\n",
       "      <th>dividend_cagr</th>\n",
       "      <th>fcf_yield</th>\n",
       "      <th>score</th>\n",
       "    </tr>\n",
       "  </thead>\n",
       "  <tbody>\n",
       "    <tr>\n",
       "      <th>2</th>\n",
       "      <td>GOOG</td>\n",
       "      <td>Alphabet Inc.</td>\n",
       "      <td>Technology</td>\n",
       "      <td>Internet</td>\n",
       "      <td>0.7</td>\n",
       "      <td>25.0</td>\n",
       "      <td>12.0</td>\n",
       "      <td>6.5</td>\n",
       "      <td>0.225000</td>\n",
       "    </tr>\n",
       "    <tr>\n",
       "      <th>0</th>\n",
       "      <td>AAPL</td>\n",
       "      <td>Apple Inc.</td>\n",
       "      <td>Technology</td>\n",
       "      <td>Consumer Electronics</td>\n",
       "      <td>0.6</td>\n",
       "      <td>15.0</td>\n",
       "      <td>8.5</td>\n",
       "      <td>5.2</td>\n",
       "      <td>0.178333</td>\n",
       "    </tr>\n",
       "    <tr>\n",
       "      <th>1</th>\n",
       "      <td>MSFT</td>\n",
       "      <td>Microsoft Corp.</td>\n",
       "      <td>Technology</td>\n",
       "      <td>Software</td>\n",
       "      <td>0.8</td>\n",
       "      <td>35.0</td>\n",
       "      <td>10.0</td>\n",
       "      <td>7.0</td>\n",
       "      <td>0.166667</td>\n",
       "    </tr>\n",
       "    <tr>\n",
       "      <th>3</th>\n",
       "      <td>JNJ</td>\n",
       "      <td>Johnson &amp; Johnson</td>\n",
       "      <td>Healthcare</td>\n",
       "      <td>Pharmaceuticals</td>\n",
       "      <td>2.5</td>\n",
       "      <td>50.0</td>\n",
       "      <td>6.0</td>\n",
       "      <td>4.0</td>\n",
       "      <td>0.000000</td>\n",
       "    </tr>\n",
       "    <tr>\n",
       "      <th>4</th>\n",
       "      <td>PG</td>\n",
       "      <td>Procter &amp; Gamble</td>\n",
       "      <td>Consumer Staples</td>\n",
       "      <td>Household Products</td>\n",
       "      <td>1.2</td>\n",
       "      <td>55.0</td>\n",
       "      <td>5.5</td>\n",
       "      <td>3.8</td>\n",
       "      <td>0.000000</td>\n",
       "    </tr>\n",
       "  </tbody>\n",
       "</table>\n",
       "</div>"
      ],
      "text/plain": [
       "  symbol               name            sector              industry  \\\n",
       "2   GOOG      Alphabet Inc.        Technology              Internet   \n",
       "0   AAPL         Apple Inc.        Technology  Consumer Electronics   \n",
       "1   MSFT    Microsoft Corp.        Technology              Software   \n",
       "3    JNJ  Johnson & Johnson        Healthcare       Pharmaceuticals   \n",
       "4     PG   Procter & Gamble  Consumer Staples    Household Products   \n",
       "\n",
       "   dividend_yield  payout  dividend_cagr  fcf_yield     score  \n",
       "2             0.7    25.0           12.0        6.5  0.225000  \n",
       "0             0.6    15.0            8.5        5.2  0.178333  \n",
       "1             0.8    35.0           10.0        7.0  0.166667  \n",
       "3             2.5    50.0            6.0        4.0  0.000000  \n",
       "4             1.2    55.0            5.5        3.8  0.000000  "
      ]
     },
     "execution_count": 5,
     "metadata": {},
     "output_type": "execute_result"
    }
   ],
   "source": [
    "scored = screener.add_scores(filtered)\n",
    "scored = scored.sort_values('score', ascending=False)\n",
    "scored.head()"
   ]
  },
  {
   "cell_type": "markdown",
   "metadata": {},
   "source": [
    "## Build Portfolio (Top N, Equal Weight)"
   ]
  },
  {
   "cell_type": "code",
   "execution_count": 6,
   "metadata": {
    "execution": {
     "iopub.execute_input": "2025-07-23T09:18:08.274125Z",
     "iopub.status.busy": "2025-07-23T09:18:08.274017Z",
     "iopub.status.idle": "2025-07-23T09:18:08.279809Z",
     "shell.execute_reply": "2025-07-23T09:18:08.279429Z"
    }
   },
   "outputs": [
    {
     "data": {
      "text/html": [
       "<div>\n",
       "<style scoped>\n",
       "    .dataframe tbody tr th:only-of-type {\n",
       "        vertical-align: middle;\n",
       "    }\n",
       "\n",
       "    .dataframe tbody tr th {\n",
       "        vertical-align: top;\n",
       "    }\n",
       "\n",
       "    .dataframe thead th {\n",
       "        text-align: right;\n",
       "    }\n",
       "</style>\n",
       "<table border=\"1\" class=\"dataframe\">\n",
       "  <thead>\n",
       "    <tr style=\"text-align: right;\">\n",
       "      <th></th>\n",
       "      <th>ticker</th>\n",
       "      <th>weight</th>\n",
       "      <th>score</th>\n",
       "    </tr>\n",
       "  </thead>\n",
       "  <tbody>\n",
       "    <tr>\n",
       "      <th>2</th>\n",
       "      <td>GOOG</td>\n",
       "      <td>0.2</td>\n",
       "      <td>0.225000</td>\n",
       "    </tr>\n",
       "    <tr>\n",
       "      <th>0</th>\n",
       "      <td>AAPL</td>\n",
       "      <td>0.2</td>\n",
       "      <td>0.178333</td>\n",
       "    </tr>\n",
       "    <tr>\n",
       "      <th>1</th>\n",
       "      <td>MSFT</td>\n",
       "      <td>0.2</td>\n",
       "      <td>0.166667</td>\n",
       "    </tr>\n",
       "    <tr>\n",
       "      <th>3</th>\n",
       "      <td>JNJ</td>\n",
       "      <td>0.2</td>\n",
       "      <td>0.000000</td>\n",
       "    </tr>\n",
       "    <tr>\n",
       "      <th>4</th>\n",
       "      <td>PG</td>\n",
       "      <td>0.2</td>\n",
       "      <td>0.000000</td>\n",
       "    </tr>\n",
       "  </tbody>\n",
       "</table>\n",
       "</div>"
      ],
      "text/plain": [
       "  ticker  weight     score\n",
       "2   GOOG     0.2  0.225000\n",
       "0   AAPL     0.2  0.178333\n",
       "1   MSFT     0.2  0.166667\n",
       "3    JNJ     0.2  0.000000\n",
       "4     PG     0.2  0.000000"
      ]
     },
     "execution_count": 6,
     "metadata": {},
     "output_type": "execute_result"
    }
   ],
   "source": [
    "top_n = 5\n",
    "portfolio = build(scored, top_n=top_n, weighting='equal')\n",
    "portfolio.head()"
   ]
  },
  {
   "cell_type": "markdown",
   "metadata": {},
   "source": [
    "## Plot Portfolio Weights"
   ]
  },
  {
   "cell_type": "code",
   "execution_count": 7,
   "metadata": {
    "execution": {
     "iopub.execute_input": "2025-07-23T09:18:08.281559Z",
     "iopub.status.busy": "2025-07-23T09:18:08.281296Z",
     "iopub.status.idle": "2025-07-23T09:18:08.924164Z",
     "shell.execute_reply": "2025-07-23T09:18:08.923864Z"
    }
   },
   "outputs": [
    {
     "data": {
      "image/png": "[encoded data removed]",
      "text/plain": [
       "<Figure size 800x400 with 1 Axes>"
      ]
     },
     "metadata": {},
     "output_type": "display_data"
    }
   ],
   "source": [
    "plt.figure(figsize=(8, 4))\n",
    "plt.bar(portfolio['ticker'], portfolio['weight'], color='skyblue')\n",
    "plt.xlabel('Ticker')\n",
    "plt.ylabel('Weight')\n",
    "plt.title('Portfolio Weights')\n",
    "plt.show()"
   ]
  },
  {
   "cell_type": "markdown",
   "metadata": {},
   "source": [
    "## Portfolio Summary Statistics"
   ]
  },
  {
   "cell_type": "code",
   "execution_count": 8,
   "metadata": {
    "execution": {
     "iopub.execute_input": "2025-07-23T09:18:08.925520Z",
     "iopub.status.busy": "2025-07-23T09:18:08.925404Z",
     "iopub.status.idle": "2025-07-23T09:18:08.930137Z",
     "shell.execute_reply": "2025-07-23T09:18:08.929882Z"
    }
   },
   "outputs": [
    {
     "name": "stdout",
     "output_type": "stream",
     "text": [
      "Portfolio Yield: 1.16\n",
      "Median CAGR: 8.5\n",
      "Mean Payout: 36.0\n"
     ]
    }
   ],
   "source": [
    "# Merge to get stats columns\n",
    "merged = portfolio.merge(scored, left_on='ticker', right_on='symbol', how='left')\n",
    "stats = summary_stats(merged)\n",
    "print('Portfolio Yield:', stats['yield'])\n",
    "print('Median CAGR:', stats['median_cagr'])\n",
    "print('Mean Payout:', stats['mean_payout'])"
   ]
  }
 ],
 "metadata": {
  "kernelspec": {
   "display_name": "Python 3",
   "language": "python",
   "name": "python3"
  },
  "language_info": {
   "codemirror_mode": {
    "name": "ipython",
    "version": 3
   },
   "file_extension": ".py",
   "mimetype": "text/x-python",
   "name": "python",
   "nbconvert_exporter": "python",
   "pygments_lexer": "ipython3",
   "version": "3.13.1"
  }
 },
 "nbformat": 4,
 "nbformat_minor": 2
}
